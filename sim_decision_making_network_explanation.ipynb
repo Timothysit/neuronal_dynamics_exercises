{
 "cells": [
  {
   "cell_type": "markdown",
   "metadata": {},
   "source": [
    "# Notes on the source code for simulating the decision network (exercise 12)\n",
    "\n",
    "The full source code is available [here](https://neuronaldynamics-exercises.readthedocs.io/en/latest/_modules/neurodynex/competing_populations/decision_making.html#getting_started). \n",
    "This is my attempt to understand how the code works.\n"
   ]
  },
  {
   "cell_type": "markdown",
   "metadata": {},
   "source": [
    "## Model Overview"
   ]
  },
  {
   "cell_type": "markdown",
   "metadata": {},
   "source": [
    "We have three neural population in our model: \n",
    "    \n",
    "- excitatory population 1 : prefer stimuli to the left  \n",
    "- excitatoy population 2 : prefer stimuli to the right \n",
    "- inhibitory population"
   ]
  },
  {
   "cell_type": "markdown",
   "metadata": {},
   "source": [
    "Their activity $A$ is some function $g$ of the input potential $h$ they receive: \n",
    "\n",
    "$$\n",
    "A_{E,k} = g_E (h_{E,k})\n",
    "$$"
   ]
  },
  {
   "cell_type": "markdown",
   "metadata": {},
   "source": [
    "We can write out the input potential to each of the pouplation:\n",
    "    \n",
    "\\begin{align} \n",
    "\\tau_E \\frac{\\mathrm{d}h_{E,1}}{\\mathrm{d}t} &= -h_{E, 1} + w_{EE} g_E (h_{E,1}) + w_{EI} g_\\text{inh} ( h_\\text{inh}) + RI_1 \\\\\n",
    "\\tau_E \\frac{\\mathrm{d}h_{E,2}}{\\mathrm{d}t} &= -h_{E, 2} + w_{EE} g_E (h_{E,2}) + w_{EI} g_\\text{inh} ( h_\\text{inh}) + RI_2 \\\\\n",
    "\\tau_\\text{inh} \\frac{\\mathrm{d}h_{\\text{inh}}}{\\mathrm{d}t} &= -h_\\text{inh} + w_{IE} g_E (h_{E,1}) + w_{IE} g_E ( h_{E,2})\n",
    "\\end{align}"
   ]
  },
  {
   "cell_type": "markdown",
   "metadata": {},
   "source": [
    "## Inhibitory Population Dynamics"
   ]
  },
  {
   "cell_type": "markdown",
   "metadata": {},
   "source": [
    "The code for the inhibtiory dynamics is:"
   ]
  },
  {
   "cell_type": "code",
   "execution_count": null,
   "metadata": {},
   "outputs": [],
   "source": [
    "inhib_lif_dynamics = \"\"\"\n",
    "    s_NMDA_total : 1  # the post synaptic sum of s. compare with s_NMDA_presyn\n",
    "    dv/dt = (\n",
    "    - G_leak_inhib * (v-E_leak_inhib)\n",
    "    - g_AMPA_excit2inhib * s_AMPA * (v-E_AMPA)\n",
    "    - g_GABA_inhib2inhib * s_GABA * (v-E_GABA)\n",
    "    - g_NMDA_excit2inhib * s_NMDA_total * (v-E_NMDA)/(1.0+1.0*exp(-0.062*v/volt)/3.57)\n",
    "    )/Cm_inhib : volt (unless refractory)\n",
    "    ds_AMPA/dt = -s_AMPA/tau_AMPA : 1\n",
    "    ds_GABA/dt = -s_GABA/tau_GABA : 1\n",
    "\"\"\""
   ]
  },
  {
   "cell_type": "markdown",
   "metadata": {},
   "source": [
    "We note that there are 3 external factors controlling the dynamics of inhibitory neurons:\n",
    " \n",
    " - excitation of AMPAR in the inhibitory neurons, via either excitatory populations \n",
    " - excitation of NDMAR in the inhibitory neurons, via either exctiatory populations \n",
    " - recurrent inhibition within the network, mediated by opening GABA (excited inhibitory neurons will activate GABA in other inhihbitory neurons, causing inhibition)"
   ]
  },
  {
   "cell_type": "markdown",
   "metadata": {},
   "source": [
    "The AMPAR and GABAR contributions both have the general form: \n",
    "\n",
    "$$\n",
    "g \\times s \\times (v - E)\n",
    "$$\n",
    "\n",
    "where: \n",
    "    \n",
    "- $g$ is the conductance of the channel \n",
    "- $s$ is the gating variable (ie. proportion of channels open)\n",
    "- $v - E$ is the driving force of the ions for that channel; ie. how far is the current potential from the resting potential for that channel\n"
   ]
  },
  {
   "cell_type": "markdown",
   "metadata": {},
   "source": [
    "Note that the dynamics of NMDAR is slightly different, because of the additional dependence of the Magnesium ion block on voltage, so that there is some extra terms to describe its contribution. (This is very common in neural modelling, basically all of XJ Wang's work uses this equation)\n",
    "\n",
    "$$\n",
    "g_\\text{NMDAR} \\times s_\\text{NMDAR} \\times (v - E_\\text{NMDAR}) / (1 + \\exp(-0.062v) / 3.57)\n",
    "$$\n"
   ]
  },
  {
   "cell_type": "markdown",
   "metadata": {},
   "source": [
    "Note that the entire thing is determined by some time constant $\\tau_\\text{inhib}$, which is denoted as `Cm_inhib` (A reminder that $\\tau = RC$, so we are actually dividing by $C = \\tau / R$)"
   ]
  },
  {
   "cell_type": "markdown",
   "metadata": {},
   "source": [
    "I need to further read the documentation on this, but I think the bullet points\n",
    "```\n",
    "dv/dt = (\n",
    "- term1\n",
    "- term2)\n",
    "```\n",
    "\n",
    "is just a minus sign, (so I think I can think of it as there always having those driving force to drive those terms to zero, as in $0 - \\text{term1}$)"
   ]
  },
  {
   "cell_type": "markdown",
   "metadata": {},
   "source": [
    "Also note that we have a leak term: \n",
    "\n",
    "$$\n",
    "g_\\text{leak_inhib} \\times (v - E_\\text{leak_inhib})\n",
    "$$"
   ]
  },
  {
   "cell_type": "markdown",
   "metadata": {},
   "source": [
    "Note that for the gating variable, only AMPAR and GABAR are defined here, and they are linear; their differential equations are simply of the form:\n",
    "\n",
    "$$\n",
    "\\frac{ds}{dt} = -\\frac{s}{\\tau}\n",
    "$$"
   ]
  },
  {
   "cell_type": "markdown",
   "metadata": {},
   "source": [
    "On the other hand, NMDAR dynamics is defined by `s_NMDA_total`, which is defined elsewhere... (I am not fully sure what this means)"
   ]
  },
  {
   "cell_type": "markdown",
   "metadata": {},
   "source": [
    "**Why is `ds_NMDA/dt` not described in the inhibitory dynamics, but described in the excitatroy dynamics?**"
   ]
  },
  {
   "cell_type": "markdown",
   "metadata": {},
   "source": [
    "I think the reason for this is that:\n",
    "\n",
    " - there are NMDAR projections from excitatory to inhibitory populations \n",
    " - there are also NMDAR projections from excitatory populations to itself (recurrent)\n",
    " - But there are no NMDAR projections from inhibitory pouplations; inhibitory populations only have GABA projections to itself and other populations\n",
    " \n",
    "Therefore, when you model the inhibitory population, you only need to take account of the NMDAR activation from excitatory popoluations that synapse on it (which here they take as a sum of the NMDAR projections from all excitatory populations I think), and you don't need to model NMDAR within the inhibitory projections because it doesn't contain any NMDAR projections."
   ]
  },
  {
   "cell_type": "markdown",
   "metadata": {},
   "source": [
    "### From differential equations to spikes"
   ]
  },
  {
   "cell_type": "markdown",
   "metadata": {},
   "source": [
    "Finally, we need to move on from defining the membrane potential of the neural population to describing the firing of the population:"
   ]
  },
  {
   "cell_type": "code",
   "execution_count": null,
   "metadata": {},
   "outputs": [],
   "source": [
    "inhib_pop = NeuronGroup(\n",
    "    N_Inhib, model=inhib_lif_dynamics,\n",
    "    threshold=\"v>v_spike_thr_inhib\", reset=\"v=v_reset_inhib\", \n",
    "    refractory=t_abs_refract_inhib,\n",
    "    method=\"rk2\")\n",
    "# initialize with random voltages:\n",
    "inhib_pop.v = rnd.uniform(v_spike_thr_inhib / b2.mV - 4., \n",
    "                          high=v_spike_thr_inhib / b2.mV - 1., size=N_Inhib) * b2.mV"
   ]
  },
  {
   "cell_type": "markdown",
   "metadata": {},
   "source": [
    "This is relatively simple:\n",
    "\n",
    "- we specify the number of enurons in `N_Inhib`\n",
    "- we specify the model that describe the dynamics of the membrane potential of the population\n",
    "- we define some spiking threshold \n",
    "- we define some reset potential after each spike\n",
    "- as well as a refractory period \n",
    "- a more technical point is the specification of the integration method. Here, `rk2` stands for the Runge-Kutta Method for numerical integration. But I am not sure what it actually does."
   ]
  },
  {
   "cell_type": "markdown",
   "metadata": {},
   "source": [
    "## Exctitatory population dynamics"
   ]
  },
  {
   "cell_type": "markdown",
   "metadata": {},
   "source": [
    "Notice that there are a few extra terms in the excitatory population compared to the inhibitory population: "
   ]
  },
  {
   "cell_type": "code",
   "execution_count": null,
   "metadata": {},
   "outputs": [],
   "source": [
    "excit_lif_dynamics = \"\"\"\n",
    "    s_NMDA_total : 1  # the post synaptic sum of s. compare with s_NMDA_presyn\n",
    "    dv/dt = (\n",
    "    - G_leak_excit * (v-E_leak_excit)\n",
    "    - g_AMPA_excit2excit * s_AMPA * (v-E_AMPA)\n",
    "    - g_GABA_inhib2excit * s_GABA * (v-E_GABA)\n",
    "    - g_NMDA_excit2excit * s_NMDA_total * (v-E_NMDA)/(1.0+1.0*exp(-0.062*v/volt)/3.57)\n",
    "    )/Cm_excit : volt (unless refractory)\n",
    "    ds_AMPA/dt = -s_AMPA/tau_AMPA : 1\n",
    "    ds_GABA/dt = -s_GABA/tau_GABA : 1\n",
    "    ds_NMDA/dt = -s_NMDA/tau_NMDA_s + alpha_NMDA * x * (1-s_NMDA) : 1\n",
    "    dx/dt = -x/tau_NMDA_x : 1\n",
    "\"\"\""
   ]
  },
  {
   "cell_type": "markdown",
   "metadata": {},
   "source": [
    "The $dv/dt$ equation is basically the same, but we have additionally defined the decay of the NMDAR dynamics\n",
    "\n",
    "$$\n",
    "\\frac{d s_\\text{NMDAR}}{dt} = -\\frac{s_\\text{NMDAR}}{\\tau} + \\alpha x (1 - s) \n",
    "$$\n"
   ]
  },
  {
   "cell_type": "markdown",
   "metadata": {},
   "source": [
    "where $x$ is some 'intermediate gating variable' (I am actually not sure what it does) that decays over time:\n",
    "\n",
    "$$\n",
    "\\frac{dx}{dt} = -\\frac{x}{\\tau_x}\n",
    "$$"
   ]
  },
  {
   "cell_type": "markdown",
   "metadata": {},
   "source": [
    "From the neuronal dynamics texbook, it seems that $x$ is an activation term for NMDAR, ie. NMDAR takes some time to open and this term models that. This gives NMDAR a smooth rise in the proportion of NMDAR activated. (Where as $\\tau$ in the equation describes the decay of NMDAR synaptic conductance)\n",
    "\n",
    "See [chapter 3](https://neuronaldynamics.epfl.ch/online/Ch3.S1.html) of the neuronal dynamics textbook. Which says that the tiem constant $\\tau_\\text{rise}$ (which is $\\tau_x$ here) characterises the rise time of the synaptic conductance). \n",
    "\n",
    "\n",
    "When there is pre-syanptic input to the population, $x$ is set to 1, which then decay over time. (This model introduce some delay to that). This can be seen in:"
   ]
  },
  {
   "cell_type": "code",
   "execution_count": null,
   "metadata": {},
   "outputs": [],
   "source": [
    "# set a self-recurrent synapse to introduce a delay when updating the intermediate\n",
    "# gating variable x\n",
    "syn_x_A2A = Synapses(excit_pop_A, excit_pop_A, on_pre=\"x += 1.\", delay=0.5 * b2.ms)\n",
    "syn_x_A2A.connect(j=\"i\")\n",
    "syn_x_B2B = Synapses(excit_pop_B, excit_pop_B, on_pre=\"x += 1.\", delay=0.5 * b2.ms)\n",
    "syn_x_B2B.connect(j=\"i\")\n",
    "syn_x_Z2Z = Synapses(excit_pop_Z, excit_pop_Z, on_pre=\"x += 1.\", delay=0.5 * b2.ms)\n",
    "syn_x_Z2Z.connect(j=\"i\")"
   ]
  },
  {
   "cell_type": "markdown",
   "metadata": {},
   "source": [
    "## NMDA Projections"
   ]
  },
  {
   "cell_type": "markdown",
   "metadata": {},
   "source": [
    "The NMDA projections are only from the excitatory populations, and are described by:"
   ]
  },
  {
   "cell_type": "code",
   "execution_count": null,
   "metadata": {},
   "outputs": [],
   "source": [
    "# NMDA projections FROM EXCITATORY to INHIB, A,B,Z\n",
    "@network_operation()\n",
    "def update_nmda_sum():\n",
    "    sum_sNMDA_A = sum(excit_pop_A.s_NMDA)\n",
    "    sum_sNMDA_B = sum(excit_pop_B.s_NMDA)\n",
    "    sum_sNMDA_Z = sum(excit_pop_Z.s_NMDA)\n",
    "    # note the _ at the end of s_NMDA_total_ disables unit checking\n",
    "    inhib_pop.s_NMDA_total_ = (1.0 * sum_sNMDA_A + 1.0 * sum_sNMDA_B + 1.0 * sum_sNMDA_Z)\n",
    "    excit_pop_A.s_NMDA_total_ = (w_pos * sum_sNMDA_A + w_neg * sum_sNMDA_B + w_neg * sum_sNMDA_Z)\n",
    "    excit_pop_B.s_NMDA_total_ = (w_neg * sum_sNMDA_A + w_pos * sum_sNMDA_B + w_neg * sum_sNMDA_Z)\n",
    "    excit_pop_Z.s_NMDA_total_ = (1.0 * sum_sNMDA_A + 1.0 * sum_sNMDA_B + 1.0 * sum_sNMDA_Z)"
   ]
  },
  {
   "cell_type": "markdown",
   "metadata": {},
   "source": [
    "Here we see that:\n",
    "\n",
    "- the inhibtory population receive NMDAR projections from population A, B, and Z with identical weights \n",
    "- excitatory population A receive NMDAR projections from itself, which is positive and controlled by the parameter `w_pos` (effectively defining the recurrent connection weight I think)\n",
    "- exciatory population A also receive *negatively-weighted* projection from population B and Z (to the same extent). I think this is an effective inhibition term? (but then there is also the explicitly defined inhibtiroy population)"
   ]
  },
  {
   "cell_type": "markdown",
   "metadata": {},
   "source": [
    "## External Input from a Poisson Group"
   ]
  },
  {
   "cell_type": "markdown",
   "metadata": {},
   "source": [
    "In the model, all 4 populations receive external neural firing input from a single external neural population with Poisson firing. The influence of the firing (connectivity weight) between this external group is different in inhibtiory and exctiatory populations, but is the same in all excitatory populations:"
   ]
  },
  {
   "cell_type": "code",
   "execution_count": null,
   "metadata": {},
   "outputs": [],
   "source": [
    "# now define the connections:\n",
    "# projections FROM EXTERNAL POISSON GROUP: ####################################################\n",
    "poisson2Inhib = PoissonInput(target=inhib_pop, target_var=\"s_AMPA\",\n",
    "                             N=N_extern, rate=firing_rate_extern, weight=w_ext2inhib)\n",
    "poisson2A = PoissonInput(target=excit_pop_A, target_var=\"s_AMPA\",\n",
    "                         N=N_extern, rate=firing_rate_extern, weight=w_ext2excit)\n",
    "\n",
    "poisson2B = PoissonInput(target=excit_pop_B, target_var=\"s_AMPA\",\n",
    "                         N=N_extern, rate=firing_rate_extern, weight=w_ext2excit)\n",
    "poisson2Z = PoissonInput(target=excit_pop_Z, target_var=\"s_AMPA\",\n",
    "                         N=N_extern, rate=firing_rate_extern, weight=w_ext2excit)"
   ]
  }
 ],
 "metadata": {
  "@webio": {
   "lastCommId": "1a997f50f9e64e0980ecdb15abbf20b2",
   "lastKernelId": "03bf0421-a9e1-40b3-be9c-f220a747da92"
  },
  "kernelspec": {
   "display_name": "Python 2",
   "language": "python",
   "name": "python2"
  },
  "language_info": {
   "codemirror_mode": {
    "name": "ipython",
    "version": 2
   },
   "file_extension": ".py",
   "mimetype": "text/x-python",
   "name": "python",
   "nbconvert_exporter": "python",
   "pygments_lexer": "ipython2",
   "version": "2.7.15"
  },
  "toc": {
   "base_numbering": 1,
   "nav_menu": {},
   "number_sections": true,
   "sideBar": true,
   "skip_h1_title": false,
   "title_cell": "Table of Contents",
   "title_sidebar": "Contents",
   "toc_cell": false,
   "toc_position": {},
   "toc_section_display": true,
   "toc_window_display": false
  },
  "varInspector": {
   "cols": {
    "lenName": 16,
    "lenType": 16,
    "lenVar": 40
   },
   "kernels_config": {
    "python": {
     "delete_cmd_postfix": "",
     "delete_cmd_prefix": "del ",
     "library": "var_list.py",
     "varRefreshCmd": "print(var_dic_list())"
    },
    "r": {
     "delete_cmd_postfix": ") ",
     "delete_cmd_prefix": "rm(",
     "library": "var_list.r",
     "varRefreshCmd": "cat(var_dic_list()) "
    }
   },
   "types_to_exclude": [
    "module",
    "function",
    "builtin_function_or_method",
    "instance",
    "_Feature"
   ],
   "window_display": false
  }
 },
 "nbformat": 4,
 "nbformat_minor": 2
}
